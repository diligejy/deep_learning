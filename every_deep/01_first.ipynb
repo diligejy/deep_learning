{
 "cells": [
  {
   "cell_type": "code",
   "execution_count": 1,
   "metadata": {},
   "outputs": [],
   "source": [
    "from tensorflow.keras.models import Sequential\n",
    "from tensorflow.keras.layers import Dense"
   ]
  },
  {
   "cell_type": "code",
   "execution_count": 2,
   "metadata": {},
   "outputs": [],
   "source": [
    "import numpy as np\n",
    "import tensorflow as tf"
   ]
  },
  {
   "cell_type": "code",
   "execution_count": 3,
   "metadata": {},
   "outputs": [],
   "source": [
    "# 실행할 때마다 같은 결과를 출력하기 위해 설정\n",
    "np.random.seed(3)\n",
    "tf.random.set_seed(3)"
   ]
  },
  {
   "cell_type": "code",
   "execution_count": 11,
   "metadata": {},
   "outputs": [],
   "source": [
    "Data_set = np.loadtxt('./dataset/ThoraricSurgery.csv', delimiter = ',')"
   ]
  },
  {
   "cell_type": "code",
   "execution_count": 13,
   "metadata": {},
   "outputs": [],
   "source": [
    "# 환자의 기록과 수술 결과를 X와 Y로 구분하여 저장\n",
    "X = Data_set[:, 0:17]\n",
    "Y = Data_set[:, 17]"
   ]
  },
  {
   "cell_type": "code",
   "execution_count": 14,
   "metadata": {},
   "outputs": [],
   "source": [
    "# 딥러닝 구조를 결정(모델을 설정하고 실행)\n",
    "model = Sequential()\n",
    "model.add(Dense(30, input_dim = 17, activation = 'relu'))\n",
    "model.add(Dense(1, activation = 'sigmoid'))"
   ]
  },
  {
   "cell_type": "code",
   "execution_count": 15,
   "metadata": {},
   "outputs": [
    {
     "name": "stdout",
     "output_type": "stream",
     "text": [
      "Train on 470 samples\n",
      "Epoch 1/100\n",
      "470/470 [==============================] - 0s 894us/sample - loss: 0.1496 - accuracy: 0.8383\n",
      "Epoch 2/100\n",
      "470/470 [==============================] - 0s 164us/sample - loss: 0.1445 - accuracy: 0.8447\n",
      "Epoch 3/100\n",
      "470/470 [==============================] - 0s 140us/sample - loss: 0.1450 - accuracy: 0.8511\n",
      "Epoch 4/100\n",
      "470/470 [==============================] - 0s 119us/sample - loss: 0.1442 - accuracy: 0.8511\n",
      "Epoch 5/100\n",
      "470/470 [==============================] - 0s 102us/sample - loss: 0.1449 - accuracy: 0.8511\n",
      "Epoch 6/100\n",
      "470/470 [==============================] - 0s 102us/sample - loss: 0.1440 - accuracy: 0.8511\n",
      "Epoch 7/100\n",
      "470/470 [==============================] - 0s 121us/sample - loss: 0.1459 - accuracy: 0.8468\n",
      "Epoch 8/100\n",
      "470/470 [==============================] - 0s 123us/sample - loss: 0.1470 - accuracy: 0.8511\n",
      "Epoch 9/100\n",
      "470/470 [==============================] - 0s 121us/sample - loss: 0.1438 - accuracy: 0.8511\n",
      "Epoch 10/100\n",
      "470/470 [==============================] - 0s 117us/sample - loss: 0.1351 - accuracy: 0.8468\n",
      "Epoch 11/100\n",
      "470/470 [==============================] - 0s 126us/sample - loss: 0.1357 - accuracy: 0.8447\n",
      "Epoch 12/100\n",
      "470/470 [==============================] - 0s 123us/sample - loss: 0.1346 - accuracy: 0.8511\n",
      "Epoch 13/100\n",
      "470/470 [==============================] - 0s 121us/sample - loss: 0.1438 - accuracy: 0.8362\n",
      "Epoch 14/100\n",
      "470/470 [==============================] - 0s 128us/sample - loss: 0.1426 - accuracy: 0.8511\n",
      "Epoch 15/100\n",
      "470/470 [==============================] - 0s 136us/sample - loss: 0.1405 - accuracy: 0.8511\n",
      "Epoch 16/100\n",
      "470/470 [==============================] - 0s 121us/sample - loss: 0.1430 - accuracy: 0.8489\n",
      "Epoch 17/100\n",
      "470/470 [==============================] - 0s 130us/sample - loss: 0.1435 - accuracy: 0.8489\n",
      "Epoch 18/100\n",
      "470/470 [==============================] - 0s 136us/sample - loss: 0.1382 - accuracy: 0.8447\n",
      "Epoch 19/100\n",
      "470/470 [==============================] - 0s 134us/sample - loss: 0.1303 - accuracy: 0.8511\n",
      "Epoch 20/100\n",
      "470/470 [==============================] - 0s 111us/sample - loss: 0.1259 - accuracy: 0.8511\n",
      "Epoch 21/100\n",
      "470/470 [==============================] - 0s 111us/sample - loss: 0.1316 - accuracy: 0.8511\n",
      "Epoch 22/100\n",
      "470/470 [==============================] - 0s 111us/sample - loss: 0.1362 - accuracy: 0.8489\n",
      "Epoch 23/100\n",
      "470/470 [==============================] - 0s 121us/sample - loss: 0.1411 - accuracy: 0.8426\n",
      "Epoch 24/100\n",
      "470/470 [==============================] - 0s 109us/sample - loss: 0.1428 - accuracy: 0.8511\n",
      "Epoch 25/100\n",
      "470/470 [==============================] - 0s 113us/sample - loss: 0.1426 - accuracy: 0.8511\n",
      "Epoch 26/100\n",
      "470/470 [==============================] - 0s 117us/sample - loss: 0.1416 - accuracy: 0.8511\n",
      "Epoch 27/100\n",
      "470/470 [==============================] - 0s 109us/sample - loss: 0.1411 - accuracy: 0.8511\n",
      "Epoch 28/100\n",
      "470/470 [==============================] - 0s 106us/sample - loss: 0.1406 - accuracy: 0.8532\n",
      "Epoch 29/100\n",
      "470/470 [==============================] - 0s 115us/sample - loss: 0.1420 - accuracy: 0.8511\n",
      "Epoch 30/100\n",
      "470/470 [==============================] - 0s 117us/sample - loss: 0.1402 - accuracy: 0.8489\n",
      "Epoch 31/100\n",
      "470/470 [==============================] - 0s 113us/sample - loss: 0.1347 - accuracy: 0.8489\n",
      "Epoch 32/100\n",
      "470/470 [==============================] - 0s 111us/sample - loss: 0.1296 - accuracy: 0.8468\n",
      "Epoch 33/100\n",
      "470/470 [==============================] - 0s 111us/sample - loss: 0.1364 - accuracy: 0.8511\n",
      "Epoch 34/100\n",
      "470/470 [==============================] - 0s 113us/sample - loss: 0.1330 - accuracy: 0.8553\n",
      "Epoch 35/100\n",
      "470/470 [==============================] - 0s 121us/sample - loss: 0.1346 - accuracy: 0.8489\n",
      "Epoch 36/100\n",
      "470/470 [==============================] - 0s 106us/sample - loss: 0.1355 - accuracy: 0.8511\n",
      "Epoch 37/100\n",
      "470/470 [==============================] - 0s 121us/sample - loss: 0.1339 - accuracy: 0.8426\n",
      "Epoch 38/100\n",
      "470/470 [==============================] - 0s 115us/sample - loss: 0.1423 - accuracy: 0.8511\n",
      "Epoch 39/100\n",
      "470/470 [==============================] - 0s 128us/sample - loss: 0.1391 - accuracy: 0.8532\n",
      "Epoch 40/100\n",
      "470/470 [==============================] - 0s 123us/sample - loss: 0.1333 - accuracy: 0.8468\n",
      "Epoch 41/100\n",
      "470/470 [==============================] - 0s 111us/sample - loss: 0.1425 - accuracy: 0.8511\n",
      "Epoch 42/100\n",
      "470/470 [==============================] - 0s 111us/sample - loss: 0.1386 - accuracy: 0.8511\n",
      "Epoch 43/100\n",
      "470/470 [==============================] - 0s 113us/sample - loss: 0.1369 - accuracy: 0.8489\n",
      "Epoch 44/100\n",
      "470/470 [==============================] - 0s 119us/sample - loss: 0.1340 - accuracy: 0.8511\n",
      "Epoch 45/100\n",
      "470/470 [==============================] - 0s 111us/sample - loss: 0.1411 - accuracy: 0.8468\n",
      "Epoch 46/100\n",
      "470/470 [==============================] - 0s 119us/sample - loss: 0.1368 - accuracy: 0.8511\n",
      "Epoch 47/100\n",
      "470/470 [==============================] - 0s 111us/sample - loss: 0.1331 - accuracy: 0.8468\n",
      "Epoch 48/100\n",
      "470/470 [==============================] - 0s 109us/sample - loss: 0.1410 - accuracy: 0.8489\n",
      "Epoch 49/100\n",
      "470/470 [==============================] - 0s 119us/sample - loss: 0.1370 - accuracy: 0.8511\n",
      "Epoch 50/100\n",
      "470/470 [==============================] - 0s 126us/sample - loss: 0.1368 - accuracy: 0.8489\n",
      "Epoch 51/100\n",
      "470/470 [==============================] - 0s 109us/sample - loss: 0.1292 - accuracy: 0.8553\n",
      "Epoch 52/100\n",
      "470/470 [==============================] - 0s 123us/sample - loss: 0.1334 - accuracy: 0.8596\n",
      "Epoch 53/100\n",
      "470/470 [==============================] - 0s 123us/sample - loss: 0.1364 - accuracy: 0.8553\n",
      "Epoch 54/100\n",
      "470/470 [==============================] - 0s 121us/sample - loss: 0.1303 - accuracy: 0.8511\n",
      "Epoch 55/100\n",
      "470/470 [==============================] - 0s 136us/sample - loss: 0.1264 - accuracy: 0.8489\n",
      "Epoch 56/100\n",
      "470/470 [==============================] - 0s 123us/sample - loss: 0.1285 - accuracy: 0.8468\n",
      "Epoch 57/100\n",
      "470/470 [==============================] - 0s 134us/sample - loss: 0.1342 - accuracy: 0.8574\n",
      "Epoch 58/100\n",
      "470/470 [==============================] - 0s 160us/sample - loss: 0.1245 - accuracy: 0.8511\n",
      "Epoch 59/100\n",
      "470/470 [==============================] - 0s 157us/sample - loss: 0.1270 - accuracy: 0.8532\n",
      "Epoch 60/100\n",
      "470/470 [==============================] - 0s 121us/sample - loss: 0.1322 - accuracy: 0.8468\n",
      "Epoch 61/100\n",
      "470/470 [==============================] - 0s 113us/sample - loss: 0.1303 - accuracy: 0.8532\n",
      "Epoch 62/100\n",
      "470/470 [==============================] - 0s 104us/sample - loss: 0.1246 - accuracy: 0.8511\n",
      "Epoch 63/100\n",
      "470/470 [==============================] - 0s 102us/sample - loss: 0.1231 - accuracy: 0.8511\n",
      "Epoch 64/100\n",
      "470/470 [==============================] - 0s 109us/sample - loss: 0.1298 - accuracy: 0.8553\n",
      "Epoch 65/100\n",
      "470/470 [==============================] - 0s 111us/sample - loss: 0.1296 - accuracy: 0.8553\n",
      "Epoch 66/100\n",
      "470/470 [==============================] - 0s 126us/sample - loss: 0.1270 - accuracy: 0.8532\n",
      "Epoch 67/100\n",
      "470/470 [==============================] - 0s 153us/sample - loss: 0.1250 - accuracy: 0.8511\n",
      "Epoch 68/100\n",
      "470/470 [==============================] - 0s 136us/sample - loss: 0.1264 - accuracy: 0.8532\n",
      "Epoch 69/100\n",
      "470/470 [==============================] - 0s 128us/sample - loss: 0.1366 - accuracy: 0.8532\n",
      "Epoch 70/100\n",
      "470/470 [==============================] - 0s 134us/sample - loss: 0.1339 - accuracy: 0.8532\n",
      "Epoch 71/100\n",
      "470/470 [==============================] - 0s 145us/sample - loss: 0.1283 - accuracy: 0.8574\n",
      "Epoch 72/100\n",
      "470/470 [==============================] - 0s 115us/sample - loss: 0.1253 - accuracy: 0.8511\n",
      "Epoch 73/100\n",
      "470/470 [==============================] - 0s 113us/sample - loss: 0.1259 - accuracy: 0.8532\n",
      "Epoch 74/100\n",
      "470/470 [==============================] - 0s 136us/sample - loss: 0.1294 - accuracy: 0.8511\n",
      "Epoch 75/100\n",
      "470/470 [==============================] - 0s 126us/sample - loss: 0.1265 - accuracy: 0.8574\n",
      "Epoch 76/100\n",
      "470/470 [==============================] - 0s 113us/sample - loss: 0.1427 - accuracy: 0.8447\n",
      "Epoch 77/100\n",
      "470/470 [==============================] - 0s 102us/sample - loss: 0.1300 - accuracy: 0.8596\n",
      "Epoch 78/100\n",
      "470/470 [==============================] - 0s 109us/sample - loss: 0.1248 - accuracy: 0.8553\n",
      "Epoch 79/100\n",
      "470/470 [==============================] - 0s 111us/sample - loss: 0.1225 - accuracy: 0.8468\n",
      "Epoch 80/100\n",
      "470/470 [==============================] - 0s 121us/sample - loss: 0.1384 - accuracy: 0.8511\n",
      "Epoch 81/100\n",
      "470/470 [==============================] - 0s 119us/sample - loss: 0.1315 - accuracy: 0.8574\n",
      "Epoch 82/100\n",
      "470/470 [==============================] - 0s 106us/sample - loss: 0.1235 - accuracy: 0.8553\n",
      "Epoch 83/100\n",
      "470/470 [==============================] - 0s 109us/sample - loss: 0.1219 - accuracy: 0.8553\n",
      "Epoch 84/100\n",
      "470/470 [==============================] - 0s 113us/sample - loss: 0.1235 - accuracy: 0.8489\n",
      "Epoch 85/100\n",
      "470/470 [==============================] - 0s 132us/sample - loss: 0.1236 - accuracy: 0.8532\n",
      "Epoch 86/100\n",
      "470/470 [==============================] - 0s 145us/sample - loss: 0.1201 - accuracy: 0.8638\n",
      "Epoch 87/100\n",
      "470/470 [==============================] - 0s 136us/sample - loss: 0.1293 - accuracy: 0.8574\n",
      "Epoch 88/100\n",
      "470/470 [==============================] - 0s 140us/sample - loss: 0.1237 - accuracy: 0.8511\n",
      "Epoch 89/100\n",
      "470/470 [==============================] - 0s 132us/sample - loss: 0.1260 - accuracy: 0.8553\n",
      "Epoch 90/100\n",
      "470/470 [==============================] - 0s 132us/sample - loss: 0.1231 - accuracy: 0.8574\n",
      "Epoch 91/100\n",
      "470/470 [==============================] - 0s 128us/sample - loss: 0.1214 - accuracy: 0.8489\n",
      "Epoch 92/100\n",
      "470/470 [==============================] - 0s 123us/sample - loss: 0.1204 - accuracy: 0.8617\n",
      "Epoch 93/100\n",
      "470/470 [==============================] - 0s 123us/sample - loss: 0.1300 - accuracy: 0.8532\n",
      "Epoch 94/100\n",
      "470/470 [==============================] - 0s 134us/sample - loss: 0.1349 - accuracy: 0.8532\n",
      "Epoch 95/100\n",
      "470/470 [==============================] - 0s 126us/sample - loss: 0.1361 - accuracy: 0.8553\n",
      "Epoch 96/100\n",
      "470/470 [==============================] - 0s 132us/sample - loss: 0.1318 - accuracy: 0.8617\n",
      "Epoch 97/100\n",
      "470/470 [==============================] - 0s 128us/sample - loss: 0.1300 - accuracy: 0.8532\n",
      "Epoch 98/100\n",
      "470/470 [==============================] - 0s 109us/sample - loss: 0.1270 - accuracy: 0.8574\n",
      "Epoch 99/100\n",
      "470/470 [==============================] - 0s 119us/sample - loss: 0.1232 - accuracy: 0.8574\n",
      "Epoch 100/100\n",
      "470/470 [==============================] - 0s 111us/sample - loss: 0.1261 - accuracy: 0.8574\n"
     ]
    },
    {
     "data": {
      "text/plain": [
       "<tensorflow.python.keras.callbacks.History at 0x20fdbef9148>"
      ]
     },
     "execution_count": 15,
     "metadata": {},
     "output_type": "execute_result"
    }
   ],
   "source": [
    "# 딥러닝 실행\n",
    "model.compile(loss = 'mean_squared_error', optimizer = 'adam', metrics = ['accuracy'])\n",
    "model.fit(X, Y, epochs = 100, batch_size = 10)"
   ]
  },
  {
   "cell_type": "code",
   "execution_count": 16,
   "metadata": {},
   "outputs": [],
   "source": [
    "import numpy as np\n",
    "x = [2, 4, 6, 8]\n",
    "y = [81, 93, 91, 97]"
   ]
  },
  {
   "cell_type": "code",
   "execution_count": 17,
   "metadata": {},
   "outputs": [],
   "source": [
    "mx = np.mean(x)\n",
    "my = np.mean(y)"
   ]
  },
  {
   "cell_type": "code",
   "execution_count": 18,
   "metadata": {},
   "outputs": [],
   "source": [
    "divisor = sum([(i - mx) ** 2 for i in x])"
   ]
  },
  {
   "cell_type": "code",
   "execution_count": 19,
   "metadata": {},
   "outputs": [],
   "source": [
    "def top(x, mx, y, my):\n",
    "    d = 0\n",
    "    for i in range(len(x)):\n",
    "        d += (x[i] - mx) * (y[i] - my)\n",
    "    return d\n",
    "dividend = top(x, mx, y, my)"
   ]
  },
  {
   "cell_type": "code",
   "execution_count": 20,
   "metadata": {},
   "outputs": [],
   "source": [
    "a = dividend / divisor"
   ]
  },
  {
   "cell_type": "code",
   "execution_count": 21,
   "metadata": {},
   "outputs": [],
   "source": [
    "b = my - (mx * a)"
   ]
  },
  {
   "cell_type": "code",
   "execution_count": 22,
   "metadata": {},
   "outputs": [
    {
     "name": "stdout",
     "output_type": "stream",
     "text": [
      "분모: 20.0\n",
      "분자: 46.0\n"
     ]
    }
   ],
   "source": [
    "print('분모:', divisor)\n",
    "print('분자:', dividend)"
   ]
  },
  {
   "cell_type": "code",
   "execution_count": 23,
   "metadata": {},
   "outputs": [
    {
     "name": "stdout",
     "output_type": "stream",
     "text": [
      "기울기 a = 2.3\n",
      "y 절편 b = 79.0\n"
     ]
    }
   ],
   "source": [
    "#기울기와 y 절편 구하기\n",
    "a = dividend / divisor\n",
    "b = my - (mx * a)\n",
    "\n",
    "# 출력으로 확인\n",
    "print('기울기 a =', a)\n",
    "print('y 절편 b =', b)"
   ]
  },
  {
   "cell_type": "code",
   "execution_count": null,
   "metadata": {},
   "outputs": [],
   "source": []
  }
 ],
 "metadata": {
  "kernelspec": {
   "display_name": "Python 3",
   "language": "python",
   "name": "python3"
  },
  "language_info": {
   "codemirror_mode": {
    "name": "ipython",
    "version": 3
   },
   "file_extension": ".py",
   "mimetype": "text/x-python",
   "name": "python",
   "nbconvert_exporter": "python",
   "pygments_lexer": "ipython3",
   "version": "3.7.4"
  }
 },
 "nbformat": 4,
 "nbformat_minor": 4
}
