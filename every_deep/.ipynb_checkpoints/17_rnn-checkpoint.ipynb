{
 "cells": [
  {
   "cell_type": "code",
   "execution_count": 1,
   "metadata": {},
   "outputs": [],
   "source": [
    "import numpy as np"
   ]
  },
  {
   "cell_type": "code",
   "execution_count": 2,
   "metadata": {},
   "outputs": [
    {
     "name": "stderr",
     "output_type": "stream",
     "text": [
      "Using TensorFlow backend.\n"
     ]
    }
   ],
   "source": [
    "# 로이터 뉴스 데이터셋 불러오기\n",
    "from keras.datasets import reuters"
   ]
  },
  {
   "cell_type": "code",
   "execution_count": 3,
   "metadata": {},
   "outputs": [],
   "source": [
    "# 불러온 데이터를 학습 셋과 테스트셋으로 나누기\n",
    "(X_train, Y_train), (X_test, Y_test) = reuters.load_data(num_words = 1000, test_split = 0.2)"
   ]
  },
  {
   "cell_type": "code",
   "execution_count": 4,
   "metadata": {},
   "outputs": [
    {
     "name": "stdout",
     "output_type": "stream",
     "text": [
      "46 카테고리\n",
      "8982 학습용 뉴스 기사\n",
      "2246 테스트용 뉴스 기사\n",
      "[1, 2, 2, 8, 43, 10, 447, 5, 25, 207, 270, 5, 2, 111, 16, 369, 186, 90, 67, 7, 89, 5, 19, 102, 6, 19, 124, 15, 90, 67, 84, 22, 482, 26, 7, 48, 4, 49, 8, 864, 39, 209, 154, 6, 151, 6, 83, 11, 15, 22, 155, 11, 15, 7, 48, 9, 2, 2, 504, 6, 258, 6, 272, 11, 15, 22, 134, 44, 11, 15, 16, 8, 197, 2, 90, 67, 52, 29, 209, 30, 32, 132, 6, 109, 15, 17, 12]\n"
     ]
    }
   ],
   "source": [
    "# 데이터 확인 후 출력\n",
    "category = np.max(Y_train) + 1\n",
    "print(category, '카테고리')\n",
    "print(len(X_train), '학습용 뉴스 기사')\n",
    "print(len(X_test), '테스트용 뉴스 기사')\n",
    "print(X_train[0])"
   ]
  },
  {
   "cell_type": "code",
   "execution_count": 5,
   "metadata": {},
   "outputs": [],
   "source": [
    "from keras.preprocessing import sequence\n",
    "\n",
    "# 데이터 전처리\n",
    "x_train = sequence.pad_sequences(X_train, maxlen = 100)\n",
    "x_test = sequence.pad_sequences(X_test, maxlen = 100)"
   ]
  },
  {
   "cell_type": "code",
   "execution_count": 6,
   "metadata": {},
   "outputs": [],
   "source": [
    "# 데이터 전처리\n",
    "from keras.utils import np_utils\n",
    "y_train = np_utils.to_categorical(Y_train)\n",
    "y_test = np_utils.to_categorical(Y_test)"
   ]
  },
  {
   "cell_type": "code",
   "execution_count": 7,
   "metadata": {},
   "outputs": [],
   "source": [
    "from keras.models import Sequential\n",
    "from keras.layers import Embedding, LSTM, Dense\n",
    "# 모델의 설정\n",
    "model = Sequential()\n",
    "model.add(Embedding(1000, 100))\n",
    "model.add(LSTM(100, activation = 'tanh'))\n",
    "model.add(Dense(46, activation = 'softmax'))"
   ]
  },
  {
   "cell_type": "code",
   "execution_count": 8,
   "metadata": {},
   "outputs": [
    {
     "name": "stderr",
     "output_type": "stream",
     "text": [
      "C:\\ProgramData\\Anaconda3\\lib\\site-packages\\tensorflow_core\\python\\framework\\indexed_slices.py:433: UserWarning: Converting sparse IndexedSlices to a dense Tensor of unknown shape. This may consume a large amount of memory.\n",
      "  \"Converting sparse IndexedSlices to a dense Tensor of unknown shape. \"\n"
     ]
    },
    {
     "name": "stdout",
     "output_type": "stream",
     "text": [
      "Train on 8982 samples, validate on 2246 samples\n",
      "Epoch 1/20\n",
      "8982/8982 [==============================] - 17s 2ms/step - loss: 2.6005 - accuracy: 0.3466 - val_loss: 2.4084 - val_accuracy: 0.3620\n",
      "Epoch 2/20\n",
      "8982/8982 [==============================] - 16s 2ms/step - loss: 2.2007 - accuracy: 0.4458 - val_loss: 2.0876 - val_accuracy: 0.5000\n",
      "Epoch 3/20\n",
      "8982/8982 [==============================] - 16s 2ms/step - loss: 1.9703 - accuracy: 0.5006 - val_loss: 1.8979 - val_accuracy: 0.5232\n",
      "Epoch 4/20\n",
      "8982/8982 [==============================] - 16s 2ms/step - loss: 1.8137 - accuracy: 0.5274 - val_loss: 1.7564 - val_accuracy: 0.5499\n",
      "Epoch 5/20\n",
      "8982/8982 [==============================] - 16s 2ms/step - loss: 1.7143 - accuracy: 0.5562 - val_loss: 1.8230 - val_accuracy: 0.5245\n",
      "Epoch 6/20\n",
      "8982/8982 [==============================] - 17s 2ms/step - loss: 1.6544 - accuracy: 0.5758 - val_loss: 1.6638 - val_accuracy: 0.5824\n",
      "Epoch 7/20\n",
      "8982/8982 [==============================] - 16s 2ms/step - loss: 1.5787 - accuracy: 0.6009 - val_loss: 1.6220 - val_accuracy: 0.6077\n",
      "Epoch 8/20\n",
      "8982/8982 [==============================] - 16s 2ms/step - loss: 1.5261 - accuracy: 0.6149 - val_loss: 1.5280 - val_accuracy: 0.6242\n",
      "Epoch 9/20\n",
      "8982/8982 [==============================] - 16s 2ms/step - loss: 1.4040 - accuracy: 0.6472 - val_loss: 1.5019 - val_accuracy: 0.6278\n",
      "Epoch 10/20\n",
      "8982/8982 [==============================] - 16s 2ms/step - loss: 1.3340 - accuracy: 0.6642 - val_loss: 1.4363 - val_accuracy: 0.6456\n",
      "Epoch 11/20\n",
      "8982/8982 [==============================] - 16s 2ms/step - loss: 1.2657 - accuracy: 0.6820 - val_loss: 1.3978 - val_accuracy: 0.6558\n",
      "Epoch 12/20\n",
      "8982/8982 [==============================] - 16s 2ms/step - loss: 1.2125 - accuracy: 0.6895 - val_loss: 1.3477 - val_accuracy: 0.6656\n",
      "Epoch 13/20\n",
      "8982/8982 [==============================] - 16s 2ms/step - loss: 1.1581 - accuracy: 0.7043 - val_loss: 1.3280 - val_accuracy: 0.6670\n",
      "Epoch 14/20\n",
      "8982/8982 [==============================] - 17s 2ms/step - loss: 1.1116 - accuracy: 0.7093 - val_loss: 1.2881 - val_accuracy: 0.6638\n",
      "Epoch 15/20\n",
      "8982/8982 [==============================] - 16s 2ms/step - loss: 1.0651 - accuracy: 0.7249 - val_loss: 1.2607 - val_accuracy: 0.6750\n",
      "Epoch 16/20\n",
      "8982/8982 [==============================] - 16s 2ms/step - loss: 1.0325 - accuracy: 0.7325 - val_loss: 1.2795 - val_accuracy: 0.6848\n",
      "Epoch 17/20\n",
      "8982/8982 [==============================] - 16s 2ms/step - loss: 0.9881 - accuracy: 0.7477 - val_loss: 1.2329 - val_accuracy: 0.6946\n",
      "Epoch 18/20\n",
      "8982/8982 [==============================] - 16s 2ms/step - loss: 0.9442 - accuracy: 0.7589 - val_loss: 1.2184 - val_accuracy: 0.6977\n",
      "Epoch 19/20\n",
      "8982/8982 [==============================] - 16s 2ms/step - loss: 0.9041 - accuracy: 0.7704 - val_loss: 1.2334 - val_accuracy: 0.7017\n",
      "Epoch 20/20\n",
      "8982/8982 [==============================] - 17s 2ms/step - loss: 0.8706 - accuracy: 0.7804 - val_loss: 1.2556 - val_accuracy: 0.6963\n"
     ]
    }
   ],
   "source": [
    "# 모델의 컴파일\n",
    "model.compile(loss = 'categorical_crossentropy',\n",
    "             optimizer = 'adam',\n",
    "             metrics = ['accuracy'])\n",
    "# 모델의 실행\n",
    "history = model.fit(x_train, y_train, batch_size = 100, epochs = 20, validation_data = (x_test, y_test))"
   ]
  },
  {
   "cell_type": "code",
   "execution_count": 10,
   "metadata": {},
   "outputs": [
    {
     "name": "stdout",
     "output_type": "stream",
     "text": [
      "2246/2246 [==============================] - 1s 656us/step\n",
      "\n",
      " Test Accuracy : 0.6963\n"
     ]
    }
   ],
   "source": [
    "# 테스트 정확도 출력\n",
    "print('\\n Test Accuracy : %.4f' % (model.evaluate(x_test, y_test)[1]))"
   ]
  },
  {
   "cell_type": "code",
   "execution_count": 12,
   "metadata": {},
   "outputs": [],
   "source": [
    "# LSTM을 이용해 로이터 뉴스 카테고리 분석하기\n",
    "from keras.datasets import reuters\n",
    "from keras.models import Sequential\n",
    "from keras.layers import Dense, LSTM, Embedding\n",
    "from keras.preprocessing import sequence\n",
    "from keras.utils import np_utils\n",
    "\n",
    "import numpy as np\n",
    "import tensorflow as tf\n",
    "import matplotlib.pyplot as plt"
   ]
  },
  {
   "cell_type": "code",
   "execution_count": 13,
   "metadata": {},
   "outputs": [],
   "source": [
    "# seed 값 설정\n",
    "seed = 0\n",
    "np.random.seed(seed)\n",
    "tf.random.set_seed(3)"
   ]
  },
  {
   "cell_type": "code",
   "execution_count": 14,
   "metadata": {},
   "outputs": [],
   "source": [
    "# 불러온 데이터를 학습셋과 테스트셋으로 나누기\n",
    "(X_train, Y_train), (X_test, Y_test) = reuters.load_data(num_words = 1000, test_split = 0.2)"
   ]
  },
  {
   "cell_type": "code",
   "execution_count": 15,
   "metadata": {},
   "outputs": [
    {
     "name": "stdout",
     "output_type": "stream",
     "text": [
      "46 카테고리\n",
      "8982 학습용 뉴스 기사\n",
      "2246 테스트용 뉴스 기사\n",
      "[1, 2, 2, 8, 43, 10, 447, 5, 25, 207, 270, 5, 2, 111, 16, 369, 186, 90, 67, 7, 89, 5, 19, 102, 6, 19, 124, 15, 90, 67, 84, 22, 482, 26, 7, 48, 4, 49, 8, 864, 39, 209, 154, 6, 151, 6, 83, 11, 15, 22, 155, 11, 15, 7, 48, 9, 2, 2, 504, 6, 258, 6, 272, 11, 15, 22, 134, 44, 11, 15, 16, 8, 197, 2, 90, 67, 52, 29, 209, 30, 32, 132, 6, 109, 15, 17, 12]\n"
     ]
    }
   ],
   "source": [
    "# 데이터 확인하기\n",
    "category = np.max(Y_train) + 1\n",
    "print(category, '카테고리')\n",
    "print(len(X_train), '학습용 뉴스 기사' )\n",
    "print(len(X_test), '테스트용 뉴스 기사')\n",
    "print(X_train[0])"
   ]
  },
  {
   "cell_type": "code",
   "execution_count": 16,
   "metadata": {},
   "outputs": [],
   "source": [
    "# 데이터 전처리\n",
    "x_train = sequence.pad_sequences(X_train, maxlen = 100)\n",
    "x_test = sequence.pad_sequences(X_test, maxlen = 100)\n",
    "y_train = np_utils.to_categorical(Y_train)\n",
    "y_test = np_utils.to_categorical(Y_test)"
   ]
  },
  {
   "cell_type": "code",
   "execution_count": 17,
   "metadata": {},
   "outputs": [],
   "source": [
    "# 모델 설정\n",
    "model = Sequential()\n",
    "model.add(Embedding(1000, 100))\n",
    "model.add(LSTM(100, activation = 'tanh'))\n",
    "model.add(Dense(46, activation = 'softmax'))\n"
   ]
  },
  {
   "cell_type": "code",
   "execution_count": 18,
   "metadata": {},
   "outputs": [],
   "source": [
    "# 모델의 컴파일\n",
    "model.compile(loss = 'categorical_crossentropy',\n",
    "             optimizer = 'adam',\n",
    "             metrics = ['accuracy'])"
   ]
  },
  {
   "cell_type": "code",
   "execution_count": 19,
   "metadata": {},
   "outputs": [
    {
     "name": "stderr",
     "output_type": "stream",
     "text": [
      "C:\\ProgramData\\Anaconda3\\lib\\site-packages\\tensorflow_core\\python\\framework\\indexed_slices.py:433: UserWarning: Converting sparse IndexedSlices to a dense Tensor of unknown shape. This may consume a large amount of memory.\n",
      "  \"Converting sparse IndexedSlices to a dense Tensor of unknown shape. \"\n"
     ]
    },
    {
     "name": "stdout",
     "output_type": "stream",
     "text": [
      "Train on 8982 samples, validate on 2246 samples\n",
      "Epoch 1/20\n",
      "8982/8982 [==============================] - 16s 2ms/step - loss: 2.5574 - accuracy: 0.3696 - val_loss: 2.0233 - val_accuracy: 0.5013\n",
      "Epoch 2/20\n",
      "8982/8982 [==============================] - 16s 2ms/step - loss: 1.9810 - accuracy: 0.4801 - val_loss: 2.0003 - val_accuracy: 0.4942\n",
      "Epoch 3/20\n",
      "8982/8982 [==============================] - 16s 2ms/step - loss: 2.0750 - accuracy: 0.4316 - val_loss: 2.0011 - val_accuracy: 0.4617\n",
      "Epoch 4/20\n",
      "8982/8982 [==============================] - 16s 2ms/step - loss: 1.8380 - accuracy: 0.5138 - val_loss: 1.7742 - val_accuracy: 0.5334\n",
      "Epoch 5/20\n",
      "8982/8982 [==============================] - 17s 2ms/step - loss: 1.6898 - accuracy: 0.5588 - val_loss: 1.7204 - val_accuracy: 0.5485\n",
      "Epoch 6/20\n",
      "8982/8982 [==============================] - 16s 2ms/step - loss: 1.6221 - accuracy: 0.5783 - val_loss: 1.6389 - val_accuracy: 0.5824\n",
      "Epoch 7/20\n",
      "8982/8982 [==============================] - 16s 2ms/step - loss: 1.5710 - accuracy: 0.5913 - val_loss: 1.6141 - val_accuracy: 0.5828\n",
      "Epoch 8/20\n",
      "8982/8982 [==============================] - 17s 2ms/step - loss: 1.4161 - accuracy: 0.6350 - val_loss: 1.4811 - val_accuracy: 0.6282\n",
      "Epoch 9/20\n",
      "8982/8982 [==============================] - 16s 2ms/step - loss: 1.3266 - accuracy: 0.6578 - val_loss: 1.4103 - val_accuracy: 0.6500\n",
      "Epoch 10/20\n",
      "8982/8982 [==============================] - 17s 2ms/step - loss: 1.2596 - accuracy: 0.6794 - val_loss: 1.4066 - val_accuracy: 0.6447\n",
      "Epoch 11/20\n",
      "8982/8982 [==============================] - 17s 2ms/step - loss: 1.2194 - accuracy: 0.6875 - val_loss: 1.3877 - val_accuracy: 0.6496\n",
      "Epoch 12/20\n",
      "8982/8982 [==============================] - 16s 2ms/step - loss: 1.1482 - accuracy: 0.7057 - val_loss: 1.3232 - val_accuracy: 0.6665\n",
      "Epoch 13/20\n",
      "8982/8982 [==============================] - 16s 2ms/step - loss: 1.0761 - accuracy: 0.7250 - val_loss: 1.2791 - val_accuracy: 0.6808\n",
      "Epoch 14/20\n",
      "8982/8982 [==============================] - 16s 2ms/step - loss: 1.0256 - accuracy: 0.7377 - val_loss: 1.2614 - val_accuracy: 0.6843\n",
      "Epoch 15/20\n",
      "8982/8982 [==============================] - 16s 2ms/step - loss: 0.9756 - accuracy: 0.7498 - val_loss: 1.2575 - val_accuracy: 0.6901\n",
      "Epoch 16/20\n",
      "8982/8982 [==============================] - 15s 2ms/step - loss: 0.9476 - accuracy: 0.7586 - val_loss: 1.2286 - val_accuracy: 0.6963\n",
      "Epoch 17/20\n",
      "8982/8982 [==============================] - 15s 2ms/step - loss: 0.9043 - accuracy: 0.7655 - val_loss: 1.2140 - val_accuracy: 0.6946\n",
      "Epoch 18/20\n",
      "8982/8982 [==============================] - 16s 2ms/step - loss: 0.8613 - accuracy: 0.7767 - val_loss: 1.2212 - val_accuracy: 0.7053\n",
      "Epoch 19/20\n",
      "8982/8982 [==============================] - 17s 2ms/step - loss: 0.8491 - accuracy: 0.7790 - val_loss: 1.2440 - val_accuracy: 0.6906\n",
      "Epoch 20/20\n",
      "8982/8982 [==============================] - 16s 2ms/step - loss: 0.8134 - accuracy: 0.7934 - val_loss: 1.2349 - val_accuracy: 0.7026\n"
     ]
    }
   ],
   "source": [
    "# 모델 실행\n",
    "history = model.fit(x_train, y_train, batch_size = 100, epochs = 20, validation_data = (x_test, y_test))"
   ]
  },
  {
   "cell_type": "code",
   "execution_count": 20,
   "metadata": {},
   "outputs": [
    {
     "name": "stdout",
     "output_type": "stream",
     "text": [
      "2246/2246 [==============================] - 2s 751us/step\n",
      "\n",
      " Test Accuracy : 0.7026\n"
     ]
    }
   ],
   "source": [
    "#테스트 정확도 출력 \n",
    "print('\\n Test Accuracy : %.4f' %(model.evaluate(x_test, y_test)[1]))"
   ]
  },
  {
   "cell_type": "code",
   "execution_count": 21,
   "metadata": {},
   "outputs": [],
   "source": [
    "# 테스트셋의 오차\n",
    "y_vloss = history.history['val_loss']\n",
    "# 학습셋의 오차\n",
    "y_loss = history.history['loss']"
   ]
  },
  {
   "cell_type": "code",
   "execution_count": 24,
   "metadata": {},
   "outputs": [
    {
     "data": {
      "image/png": "[encoded data removed]",
      "text/plain": [
       "<Figure size 432x288 with 1 Axes>"
      ]
     },
     "metadata": {
      "needs_background": "light"
     },
     "output_type": "display_data"
    }
   ],
   "source": [
    "# 그래프로 표현\n",
    "x_len = np.arange(len(y_loss))\n",
    "plt.plot(x_len, y_vloss, marker = '.', c = 'red', label = 'Testset_loss')\n",
    "plt.plot(x_len, y_loss, marker = '.', c = 'blue', label = 'Trainset_loss')\n",
    "plt.legend(loc = 'upper right')\n",
    "plt.grid()\n",
    "plt.xlabel('epoch')\n",
    "plt.ylabel('loss')\n",
    "plt.show()"
   ]
  },
  {
   "cell_type": "code",
   "execution_count": 23,
   "metadata": {},
   "outputs": [
    {
     "name": "stderr",
     "output_type": "stream",
     "text": [
      "No handles with labels found to put in legend.\n"
     ]
    },
    {
     "data": {
      "image/png": "[encoded data removed]",
      "text/plain": [
       "<Figure size 432x288 with 1 Axes>"
      ]
     },
     "metadata": {
      "needs_background": "light"
     },
     "output_type": "display_data"
    }
   ],
   "source": []
  },
  {
   "cell_type": "code",
   "execution_count": 2,
   "metadata": {},
   "outputs": [],
   "source": [
    "# LSTM과 CNN을 조합해 영화 리뷰 분석하기\n",
    "from keras.preprocessing import sequence\n",
    "from keras.models import Sequential\n",
    "from keras.layers import Dense, Dropout, Activation\n",
    "from keras.layers import Embedding\n",
    "from keras.layers import LSTM\n",
    "from keras.layers import Conv1D, MaxPooling1D\n",
    "from keras.datasets import imdb\n",
    "\n",
    "import numpy as np\n",
    "import tensorflow as tf\n",
    "import matplotlib.pyplot as plt"
   ]
  },
  {
   "cell_type": "code",
   "execution_count": 3,
   "metadata": {},
   "outputs": [],
   "source": [
    "# seed 값 설정\n",
    "seed = 0\n",
    "np.random.seed(seed)\n",
    "tf.random.set_seed(3)"
   ]
  },
  {
   "cell_type": "code",
   "execution_count": 4,
   "metadata": {},
   "outputs": [
    {
     "name": "stdout",
     "output_type": "stream",
     "text": [
      "Downloading data from https://s3.amazonaws.com/text-datasets/imdb.npz\n",
      "17465344/17464789 [==============================] - 3s 0us/step\n"
     ]
    }
   ],
   "source": [
    "# 학습셋과 테스트셋 지정하기\n",
    "(x_train, y_train), (x_test, y_test) = imdb.load_data(num_words = 5000)"
   ]
  },
  {
   "cell_type": "code",
   "execution_count": 5,
   "metadata": {},
   "outputs": [],
   "source": [
    "# 데이터 전처리\n",
    "x_train = sequence.pad_sequences(x_train, maxlen = 100)\n",
    "x_test = sequence.pad_sequences(x_test, maxlen = 100)"
   ]
  },
  {
   "cell_type": "code",
   "execution_count": 6,
   "metadata": {},
   "outputs": [
    {
     "name": "stdout",
     "output_type": "stream",
     "text": [
      "Model: \"sequential_1\"\n",
      "_________________________________________________________________\n",
      "Layer (type)                 Output Shape              Param #   \n",
      "=================================================================\n",
      "embedding_1 (Embedding)      (None, None, 100)         500000    \n",
      "_________________________________________________________________\n",
      "dropout_1 (Dropout)          (None, None, 100)         0         \n",
      "_________________________________________________________________\n",
      "conv1d_1 (Conv1D)            (None, None, 64)          32064     \n",
      "_________________________________________________________________\n",
      "max_pooling1d_1 (MaxPooling1 (None, None, 64)          0         \n",
      "_________________________________________________________________\n",
      "lstm_1 (LSTM)                (None, 55)                26400     \n",
      "_________________________________________________________________\n",
      "dense_1 (Dense)              (None, 1)                 56        \n",
      "_________________________________________________________________\n",
      "activation_1 (Activation)    (None, 1)                 0         \n",
      "=================================================================\n",
      "Total params: 558,520\n",
      "Trainable params: 558,520\n",
      "Non-trainable params: 0\n",
      "_________________________________________________________________\n"
     ]
    }
   ],
   "source": [
    "# 모델의 설정\n",
    "model = Sequential()\n",
    "model.add(Embedding(5000, 100))\n",
    "model.add(Dropout(0.5))\n",
    "model.add(Conv1D(64, 5, padding = 'valid', activation = 'relu', strides = 1))\n",
    "model.add(MaxPooling1D(pool_size = 4))\n",
    "model.add(LSTM(55))\n",
    "model.add(Dense(1))\n",
    "model.add(Activation('sigmoid'))\n",
    "model.summary()"
   ]
  },
  {
   "cell_type": "code",
   "execution_count": 7,
   "metadata": {},
   "outputs": [],
   "source": [
    "# 모델의 컴파일\n",
    "model.compile(loss = 'binary_crossentropy',\n",
    "             optimizer = 'adam',\n",
    "             metrics = ['accuracy'])"
   ]
  },
  {
   "cell_type": "code",
   "execution_count": 8,
   "metadata": {},
   "outputs": [
    {
     "name": "stderr",
     "output_type": "stream",
     "text": [
      "C:\\ProgramData\\Anaconda3\\lib\\site-packages\\tensorflow_core\\python\\framework\\indexed_slices.py:433: UserWarning: Converting sparse IndexedSlices to a dense Tensor of unknown shape. This may consume a large amount of memory.\n",
      "  \"Converting sparse IndexedSlices to a dense Tensor of unknown shape. \"\n"
     ]
    },
    {
     "name": "stdout",
     "output_type": "stream",
     "text": [
      "Train on 25000 samples, validate on 25000 samples\n",
      "Epoch 1/5\n",
      "25000/25000 [==============================] - 22s 887us/step - loss: 0.4510 - accuracy: 0.7674 - val_loss: 0.3346 - val_accuracy: 0.8522\n",
      "Epoch 2/5\n",
      "25000/25000 [==============================] - 23s 911us/step - loss: 0.2877 - accuracy: 0.8789 - val_loss: 0.3267 - val_accuracy: 0.8589\n",
      "Epoch 3/5\n",
      "25000/25000 [==============================] - 23s 939us/step - loss: 0.2467 - accuracy: 0.9016 - val_loss: 0.3336 - val_accuracy: 0.8561\n",
      "Epoch 4/5\n",
      "25000/25000 [==============================] - 23s 909us/step - loss: 0.2084 - accuracy: 0.9183 - val_loss: 0.3466 - val_accuracy: 0.8541\n",
      "Epoch 5/5\n",
      "25000/25000 [==============================] - 24s 961us/step - loss: 0.1781 - accuracy: 0.9300 - val_loss: 0.3567 - val_accuracy: 0.8516\n"
     ]
    }
   ],
   "source": [
    "# 모델의 실행\n",
    "history = model.fit(x_train, y_train, batch_size = 100, epochs = 5, validation_data = (x_test, y_test))"
   ]
  },
  {
   "cell_type": "code",
   "execution_count": 9,
   "metadata": {},
   "outputs": [],
   "source": [
    "# 테스트셋의 오차\n",
    "y_vloss = history.history['val_loss']\n",
    "# 학습셋의 오차\n",
    "y_loss = history.history['loss']\n"
   ]
  },
  {
   "cell_type": "code",
   "execution_count": 11,
   "metadata": {},
   "outputs": [
    {
     "data": {
      "image/png": "[encoded data removed]",
      "text/plain": [
       "<Figure size 432x288 with 1 Axes>"
      ]
     },
     "metadata": {
      "needs_background": "light"
     },
     "output_type": "display_data"
    }
   ],
   "source": [
    "# 그래프로 표현\n",
    "x_len = np.arange(len(y_loss))\n",
    "plt.plot(x_len, y_vloss, marker = '.', c = 'red', label = 'Testset_loss')\n",
    "plt.plot(x_len, y_loss, marker = '.', c = 'blue', label = 'Trainset_loss')\n",
    "\n",
    "plt.legend(loc = 'upper right')\n",
    "plt.grid()\n",
    "plt.xlabel('epoch')\n",
    "plt.ylabel('loss')\n",
    "plt.show()"
   ]
  },
  {
   "cell_type": "code",
   "execution_count": null,
   "metadata": {},
   "outputs": [],
   "source": []
  }
 ],
 "metadata": {
  "kernelspec": {
   "display_name": "Python 3",
   "language": "python",
   "name": "python3"
  },
  "language_info": {
   "codemirror_mode": {
    "name": "ipython",
    "version": 3
   },
   "file_extension": ".py",
   "mimetype": "text/x-python",
   "name": "python",
   "nbconvert_exporter": "python",
   "pygments_lexer": "ipython3",
   "version": "3.7.4"
  }
 },
 "nbformat": 4,
 "nbformat_minor": 4
}
